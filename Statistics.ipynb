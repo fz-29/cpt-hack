{
 "cells": [
  {
   "cell_type": "code",
   "execution_count": 1,
   "metadata": {},
   "outputs": [],
   "source": [
    "import pandas as pd\n",
    "import os\n",
    "import requests"
   ]
  },
  {
   "cell_type": "code",
   "execution_count": 2,
   "metadata": {
    "collapsed": true
   },
   "outputs": [],
   "source": [
    "df = pd.read_csv(\"query.csv\")"
   ]
  },
  {
   "cell_type": "code",
   "execution_count": 3,
   "metadata": {},
   "outputs": [
    {
     "data": {
      "text/html": [
       "<div>\n",
       "<style scoped>\n",
       "    .dataframe tbody tr th:only-of-type {\n",
       "        vertical-align: middle;\n",
       "    }\n",
       "\n",
       "    .dataframe tbody tr th {\n",
       "        vertical-align: top;\n",
       "    }\n",
       "\n",
       "    .dataframe thead th {\n",
       "        text-align: right;\n",
       "    }\n",
       "</style>\n",
       "<table border=\"1\" class=\"dataframe\">\n",
       "  <thead>\n",
       "    <tr style=\"text-align: right;\">\n",
       "      <th></th>\n",
       "      <th>item</th>\n",
       "      <th>itemLabel</th>\n",
       "      <th>depicts</th>\n",
       "      <th>image</th>\n",
       "      <th>year</th>\n",
       "      <th>author</th>\n",
       "    </tr>\n",
       "  </thead>\n",
       "  <tbody>\n",
       "    <tr>\n",
       "      <th>0</th>\n",
       "      <td>http://www.wikidata.org/entity/Q204243</td>\n",
       "      <td>St. Roch in Glory</td>\n",
       "      <td>http://www.wikidata.org/entity/Q5</td>\n",
       "      <td>http://commons.wikimedia.org/wiki/Special:File...</td>\n",
       "      <td>1564-01-01T00:00:00Z</td>\n",
       "      <td>http://www.wikidata.org/entity/Q9319</td>\n",
       "    </tr>\n",
       "    <tr>\n",
       "      <th>1</th>\n",
       "      <td>http://www.wikidata.org/entity/Q389198</td>\n",
       "      <td>Three Musicians</td>\n",
       "      <td>http://www.wikidata.org/entity/Q5</td>\n",
       "      <td>http://commons.wikimedia.org/wiki/Special:File...</td>\n",
       "      <td>1617-01-01T00:00:00Z</td>\n",
       "      <td>http://www.wikidata.org/entity/Q297</td>\n",
       "    </tr>\n",
       "    <tr>\n",
       "      <th>2</th>\n",
       "      <td>http://www.wikidata.org/entity/Q478271</td>\n",
       "      <td>Reply of the Zaporozhian Cossacks</td>\n",
       "      <td>http://www.wikidata.org/entity/Q5</td>\n",
       "      <td>http://commons.wikimedia.org/wiki/Special:File...</td>\n",
       "      <td>1891-01-01T00:00:00Z</td>\n",
       "      <td>http://www.wikidata.org/entity/Q172911</td>\n",
       "    </tr>\n",
       "    <tr>\n",
       "      <th>3</th>\n",
       "      <td>http://www.wikidata.org/entity/Q587514</td>\n",
       "      <td>The City Rises</td>\n",
       "      <td>http://www.wikidata.org/entity/Q5</td>\n",
       "      <td>http://commons.wikimedia.org/wiki/Special:File...</td>\n",
       "      <td>1910-01-01T00:00:00Z</td>\n",
       "      <td>http://www.wikidata.org/entity/Q152797</td>\n",
       "    </tr>\n",
       "    <tr>\n",
       "      <th>4</th>\n",
       "      <td>http://www.wikidata.org/entity/Q600379</td>\n",
       "      <td>Banks of the Marne</td>\n",
       "      <td>http://www.wikidata.org/entity/Q5</td>\n",
       "      <td>http://commons.wikimedia.org/wiki/Special:File...</td>\n",
       "      <td>1888-01-01T00:00:00Z</td>\n",
       "      <td>http://www.wikidata.org/entity/Q35548</td>\n",
       "    </tr>\n",
       "  </tbody>\n",
       "</table>\n",
       "</div>"
      ],
      "text/plain": [
       "                                     item                          itemLabel  \\\n",
       "0  http://www.wikidata.org/entity/Q204243                  St. Roch in Glory   \n",
       "1  http://www.wikidata.org/entity/Q389198                    Three Musicians   \n",
       "2  http://www.wikidata.org/entity/Q478271  Reply of the Zaporozhian Cossacks   \n",
       "3  http://www.wikidata.org/entity/Q587514                     The City Rises   \n",
       "4  http://www.wikidata.org/entity/Q600379                 Banks of the Marne   \n",
       "\n",
       "                             depicts  \\\n",
       "0  http://www.wikidata.org/entity/Q5   \n",
       "1  http://www.wikidata.org/entity/Q5   \n",
       "2  http://www.wikidata.org/entity/Q5   \n",
       "3  http://www.wikidata.org/entity/Q5   \n",
       "4  http://www.wikidata.org/entity/Q5   \n",
       "\n",
       "                                               image                  year  \\\n",
       "0  http://commons.wikimedia.org/wiki/Special:File...  1564-01-01T00:00:00Z   \n",
       "1  http://commons.wikimedia.org/wiki/Special:File...  1617-01-01T00:00:00Z   \n",
       "2  http://commons.wikimedia.org/wiki/Special:File...  1891-01-01T00:00:00Z   \n",
       "3  http://commons.wikimedia.org/wiki/Special:File...  1910-01-01T00:00:00Z   \n",
       "4  http://commons.wikimedia.org/wiki/Special:File...  1888-01-01T00:00:00Z   \n",
       "\n",
       "                                   author  \n",
       "0    http://www.wikidata.org/entity/Q9319  \n",
       "1     http://www.wikidata.org/entity/Q297  \n",
       "2  http://www.wikidata.org/entity/Q172911  \n",
       "3  http://www.wikidata.org/entity/Q152797  \n",
       "4   http://www.wikidata.org/entity/Q35548  "
      ]
     },
     "execution_count": 3,
     "metadata": {},
     "output_type": "execute_result"
    }
   ],
   "source": [
    "df.head(5)"
   ]
  },
  {
   "cell_type": "code",
   "execution_count": 11,
   "metadata": {},
   "outputs": [
    {
     "data": {
      "text/html": [
       "<div>\n",
       "<style scoped>\n",
       "    .dataframe tbody tr th:only-of-type {\n",
       "        vertical-align: middle;\n",
       "    }\n",
       "\n",
       "    .dataframe tbody tr th {\n",
       "        vertical-align: top;\n",
       "    }\n",
       "\n",
       "    .dataframe thead th {\n",
       "        text-align: right;\n",
       "    }\n",
       "</style>\n",
       "<table border=\"1\" class=\"dataframe\">\n",
       "  <thead>\n",
       "    <tr style=\"text-align: right;\">\n",
       "      <th></th>\n",
       "      <th>unique_depicts</th>\n",
       "      <th>counts</th>\n",
       "    </tr>\n",
       "  </thead>\n",
       "  <tbody>\n",
       "    <tr>\n",
       "      <th>0</th>\n",
       "      <td>http://www.wikidata.org/entity/Q467</td>\n",
       "      <td>6555</td>\n",
       "    </tr>\n",
       "    <tr>\n",
       "      <th>1</th>\n",
       "      <td>http://www.wikidata.org/entity/Q8441</td>\n",
       "      <td>5271</td>\n",
       "    </tr>\n",
       "    <tr>\n",
       "      <th>2</th>\n",
       "      <td>http://www.wikidata.org/entity/Q345</td>\n",
       "      <td>1849</td>\n",
       "    </tr>\n",
       "    <tr>\n",
       "      <th>3</th>\n",
       "      <td>http://www.wikidata.org/entity/Q527</td>\n",
       "      <td>1709</td>\n",
       "    </tr>\n",
       "    <tr>\n",
       "      <th>4</th>\n",
       "      <td>http://www.wikidata.org/entity/Q10884</td>\n",
       "      <td>1646</td>\n",
       "    </tr>\n",
       "    <tr>\n",
       "      <th>5</th>\n",
       "      <td>http://www.wikidata.org/entity/Q8074</td>\n",
       "      <td>1307</td>\n",
       "    </tr>\n",
       "    <tr>\n",
       "      <th>6</th>\n",
       "      <td>http://www.wikidata.org/entity/Q3010</td>\n",
       "      <td>1273</td>\n",
       "    </tr>\n",
       "    <tr>\n",
       "      <th>7</th>\n",
       "      <td>http://www.wikidata.org/entity/Q942467</td>\n",
       "      <td>1212</td>\n",
       "    </tr>\n",
       "    <tr>\n",
       "      <th>8</th>\n",
       "      <td>http://www.wikidata.org/entity/Q302</td>\n",
       "      <td>1030</td>\n",
       "    </tr>\n",
       "    <tr>\n",
       "      <th>9</th>\n",
       "      <td>http://www.wikidata.org/entity/Q1144593</td>\n",
       "      <td>1000</td>\n",
       "    </tr>\n",
       "  </tbody>\n",
       "</table>\n",
       "</div>"
      ],
      "text/plain": [
       "                            unique_depicts  counts\n",
       "0      http://www.wikidata.org/entity/Q467    6555\n",
       "1     http://www.wikidata.org/entity/Q8441    5271\n",
       "2      http://www.wikidata.org/entity/Q345    1849\n",
       "3      http://www.wikidata.org/entity/Q527    1709\n",
       "4    http://www.wikidata.org/entity/Q10884    1646\n",
       "5     http://www.wikidata.org/entity/Q8074    1307\n",
       "6     http://www.wikidata.org/entity/Q3010    1273\n",
       "7   http://www.wikidata.org/entity/Q942467    1212\n",
       "8      http://www.wikidata.org/entity/Q302    1030\n",
       "9  http://www.wikidata.org/entity/Q1144593    1000"
      ]
     },
     "execution_count": 11,
     "metadata": {},
     "output_type": "execute_result"
    }
   ],
   "source": [
    "top_depict = df['depicts'].value_counts().rename_axis('unique_depicts').reset_index(name='counts').head(10)\n",
    "top_depict"
   ]
  },
  {
   "cell_type": "code",
   "execution_count": 5,
   "metadata": {},
   "outputs": [
    {
     "data": {
      "text/plain": [
       "http://www.wikidata.org/entity/Q4233718    4000\n",
       "http://www.wikidata.org/entity/Q5582       1726\n",
       "http://www.wikidata.org/entity/Q134741     1564\n",
       "http://www.wikidata.org/entity/Q5598       1434\n",
       "http://www.wikidata.org/entity/Q5599       1371\n",
       "http://www.wikidata.org/entity/Q483992     1216\n",
       "http://www.wikidata.org/entity/Q47551      1120\n",
       "http://www.wikidata.org/entity/Q296        1081\n",
       "http://www.wikidata.org/entity/Q213612     1067\n",
       "http://www.wikidata.org/entity/Q212499     1040\n",
       "Name: author, dtype: int64"
      ]
     },
     "execution_count": 5,
     "metadata": {},
     "output_type": "execute_result"
    }
   ],
   "source": [
    "df['author'].value_counts().head(10)"
   ]
  },
  {
   "cell_type": "code",
   "execution_count": 10,
   "metadata": {},
   "outputs": [
    {
     "name": "stdout",
     "output_type": "stream",
     "text": [
      "../Q467.jpg\n",
      "../Q8441.jpg\n",
      "../Q345.jpg\n",
      "../Q527.jpg\n",
      "../Q10884.jpg\n",
      "../Q8074.jpg\n",
      "../Q3010.jpg\n",
      "../Q942467.jpg\n",
      "../Q302.jpg\n",
      "../Q1144593.jpg\n"
     ]
    }
   ],
   "source": [
    "cat_count = int(top_depict['counts'].tail(1))\n",
    "cat_count = 1\n",
    "dirname = \"..\" #os.path.dirname(__file__)\n",
    "\n",
    "for depict in top_depict['unique_depicts']:\n",
    "    cat_df = df.loc[df['depicts'] == depict].head(cat_count)\n",
    "    for index, row in cat_df.iterrows():\n",
    "        file_name = os.path.join(dirname, depict.rsplit('/',1)[1] + \".\" + row[\"image\"].rsplit('.',1)[1])\n",
    "        url = row[\"image\"]\n",
    "        extension = url.rsplit('.', 1)[1]\n",
    "        print(file_name)\n",
    "#         if not os.path.isfile(file_name):\n",
    "#             r = requests.get(url, allow_redirects=True)\n",
    "#             open(filename, 'wb').write(r.content)\n",
    "            \n",
    "        "
   ]
  },
  {
   "cell_type": "code",
   "execution_count": null,
   "metadata": {
    "collapsed": true
   },
   "outputs": [],
   "source": []
  }
 ],
 "metadata": {
  "kernelspec": {
   "display_name": "Python 3",
   "language": "python",
   "name": "python3"
  },
  "language_info": {
   "codemirror_mode": {
    "name": "ipython",
    "version": 3
   },
   "file_extension": ".py",
   "mimetype": "text/x-python",
   "name": "python",
   "nbconvert_exporter": "python",
   "pygments_lexer": "ipython3",
   "version": "3.6.2"
  }
 },
 "nbformat": 4,
 "nbformat_minor": 2
}
